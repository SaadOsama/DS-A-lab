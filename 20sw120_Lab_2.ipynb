{
  "nbformat": 4,
  "nbformat_minor": 0,
  "metadata": {
    "colab": {
      "provenance": [],
      "authorship_tag": "ABX9TyMwkXU3aleYrVdv8M+ZZZFq",
      "include_colab_link": true
    },
    "kernelspec": {
      "name": "python3",
      "display_name": "Python 3"
    },
    "language_info": {
      "name": "python"
    }
  },
  "cells": [
    {
      "cell_type": "markdown",
      "metadata": {
        "id": "view-in-github",
        "colab_type": "text"
      },
      "source": [
        "<a href=\"https://colab.research.google.com/github/SaadOsama/DS-A-lab/blob/main/20sw120_Lab_2.ipynb\" target=\"_parent\"><img src=\"https://colab.research.google.com/assets/colab-badge.svg\" alt=\"Open In Colab\"/></a>"
      ]
    },
    {
      "cell_type": "markdown",
      "source": [],
      "metadata": {
        "id": "GFx0kRJFZ31S"
      }
    },
    {
      "cell_type": "code",
      "execution_count": 1,
      "metadata": {
        "colab": {
          "base_uri": "https://localhost:8080/"
        },
        "id": "ZREtNh58XlXo",
        "outputId": "600a9086-c11f-4a0c-a613-0c0bcd75dca1"
      },
      "outputs": [
        {
          "output_type": "stream",
          "name": "stdout",
          "text": [
            "Great job! You scored well!\n"
          ]
        }
      ],
      "source": [
        "points = 174\n",
        "if points >= 200:\n",
        "    result = \"Congratulations! You achieved a high score!\"\n",
        "elif points >= 150:\n",
        "    result = \"Great job! You scored well!\"\n",
        "elif points >= 100:\n",
        "    result = \"Nice effort! You have a decent score.\"\n",
        "else:\n",
        "    result = \"Keep practicing! Your score is below the average.\"\n",
        "\n",
        "print(result)"
      ]
    },
    {
      "cell_type": "code",
      "source": [],
      "metadata": {
        "id": "ZZG4lNrUXqq1"
      },
      "execution_count": 1,
      "outputs": []
    },
    {
      "cell_type": "code",
      "source": [
        "answer = 42\n",
        "guess = 35\n",
        "\n",
        "if guess < answer:\n",
        "    result = \"Oops! Your guess was too low.\"\n",
        "elif guess > answer:\n",
        "    result = \"Oops! Your guess was too high.\"\n",
        "else:\n",
        "    result = \"Nice! Your guess matched the answer!\"\n",
        "\n",
        "print(result)\n"
      ],
      "metadata": {
        "colab": {
          "base_uri": "https://localhost:8080/"
        },
        "id": "jY_4bswtXuIP",
        "outputId": "d72eaed9-0c67-44d6-db4b-ddf37bdb9f00"
      },
      "execution_count": 2,
      "outputs": [
        {
          "output_type": "stream",
          "name": "stdout",
          "text": [
            "Oops! Your guess was too low.\n"
          ]
        }
      ]
    },
    {
      "cell_type": "code",
      "source": [
        "def calculate_tax(purchase_amount, state):\n",
        "\n",
        "    tax_rates = {\n",
        "        \"CA\": 0.075,   # 7.5%\n",
        "        \"MN\": 0.095,   # 9.5%\n",
        "        \"NY\": 0.089    # 8.9%\n",
        "    }\n",
        "\n",
        "\n",
        "    if state in tax_rates:\n",
        "\n",
        "        tax_rate = tax_rates[state]\n",
        "        taxed_amount = purchase_amount * tax_rate\n",
        "        total_amount = purchase_amount + taxed_amount\n",
        "\n",
        "\n",
        "        return taxed_amount, total_amount\n",
        "    else:\n",
        "\n",
        "        return None, None\n",
        "\n",
        "\n",
        "purchase_amount = 100\n",
        "state = \"CA\"\n",
        "taxed_amount, total_amount = calculate_tax(purchase_amount, state)\n",
        "if taxed_amount is not None:\n",
        "    print(\"Purchase Amount: ${}\".format(purchase_amount))\n",
        "    print(\"State: {}\".format(state))\n",
        "    print(\"Taxed Amount: ${}\".format(taxed_amount))\n",
        "    print(\"Total Amount after Tax: ${}\".format(total_amount))\n",
        "else:\n",
        "    print(\"Invalid state. Tax information not available.\")\n"
      ],
      "metadata": {
        "colab": {
          "base_uri": "https://localhost:8080/"
        },
        "id": "QySB4tJjXyV4",
        "outputId": "6d4a9356-2b56-40dd-b136-d5219c17d4eb"
      },
      "execution_count": 4,
      "outputs": [
        {
          "output_type": "stream",
          "name": "stdout",
          "text": [
            "Purchase Amount: $100\n",
            "State: CA\n",
            "Taxed Amount: $7.5\n",
            "Total Amount after Tax: $107.5\n"
          ]
        }
      ]
    },
    {
      "cell_type": "code",
      "source": [],
      "metadata": {
        "id": "J88RJ-YgX3he"
      },
      "execution_count": 3,
      "outputs": []
    },
    {
      "cell_type": "code",
      "source": [
        "sentence = [\"the\", \"quick\", \"brown\", \"fox\", \"jumped\", \"over\", \"the\", \"lazy\", \"dog\"]\n",
        "\n",
        "for word in sentence:\n",
        "    print(word)\n"
      ],
      "metadata": {
        "colab": {
          "base_uri": "https://localhost:8080/"
        },
        "id": "lMxQm3ZEYODS",
        "outputId": "e5357604-417c-40c0-d1ce-c9a353d150ca"
      },
      "execution_count": 5,
      "outputs": [
        {
          "output_type": "stream",
          "name": "stdout",
          "text": [
            "the\n",
            "quick\n",
            "brown\n",
            "fox\n",
            "jumped\n",
            "over\n",
            "the\n",
            "lazy\n",
            "dog\n"
          ]
        }
      ]
    },
    {
      "cell_type": "code",
      "source": [],
      "metadata": {
        "id": "K4wredAAYDqh"
      },
      "execution_count": null,
      "outputs": []
    },
    {
      "cell_type": "code",
      "source": [
        "for number in range(5, 31):\n",
        "    if number % 5 == 0:\n",
        "        print(number, end=\"\")\n"
      ],
      "metadata": {
        "colab": {
          "base_uri": "https://localhost:8080/"
        },
        "id": "F_FmJGvxYdlt",
        "outputId": "9b779296-dc56-45e0-b3d8-cb95b387bdb0"
      },
      "execution_count": 6,
      "outputs": [
        {
          "output_type": "stream",
          "name": "stdout",
          "text": [
            "51015202530"
          ]
        }
      ]
    },
    {
      "cell_type": "code",
      "source": [],
      "metadata": {
        "id": "E2kHhVpbYeZN"
      },
      "execution_count": null,
      "outputs": []
    },
    {
      "cell_type": "code",
      "source": [
        "names = [\"Saad\", \"Osama\", \"Bilal\", \"Mushtaque\", \"khalil\"]\n",
        "first_names = [name.split()[0].lower() for name in names]\n",
        "print(first_names)\n"
      ],
      "metadata": {
        "colab": {
          "base_uri": "https://localhost:8080/"
        },
        "id": "uUlI44PEYkD_",
        "outputId": "b4a2c05c-25e0-4ac1-85e1-464fe97ca23b"
      },
      "execution_count": 8,
      "outputs": [
        {
          "output_type": "stream",
          "name": "stdout",
          "text": [
            "['saad', 'osama', 'bilal', 'mushtaque', 'khalil']\n"
          ]
        }
      ]
    },
    {
      "cell_type": "code",
      "source": [],
      "metadata": {
        "id": "MZ1I7BCIYk0b"
      },
      "execution_count": null,
      "outputs": []
    },
    {
      "cell_type": "code",
      "source": [
        "multiples_3 = [3 * i for i in range(1, 21)]\n",
        "print(multiples_3)"
      ],
      "metadata": {
        "colab": {
          "base_uri": "https://localhost:8080/"
        },
        "id": "WlYrMpFUYxhV",
        "outputId": "107a8200-b7d4-41df-feca-bb2a054272e6"
      },
      "execution_count": 9,
      "outputs": [
        {
          "output_type": "stream",
          "name": "stdout",
          "text": [
            "[3, 6, 9, 12, 15, 18, 21, 24, 27, 30, 33, 36, 39, 42, 45, 48, 51, 54, 57, 60]\n"
          ]
        }
      ]
    },
    {
      "cell_type": "code",
      "source": [
        "scores = {\"Saad\": 70, \"Osama\": 35, \"Akhund \": 82, \" Bilal\": 23, \"Saif\": 98}\n",
        "\n",
        "\n",
        "passed = [name for name, score in scores.items() if score >= 65]\n",
        "\n",
        "print(passed)\n"
      ],
      "metadata": {
        "colab": {
          "base_uri": "https://localhost:8080/"
        },
        "id": "5C0i5BxrY5fB",
        "outputId": "8928b089-b10a-4de1-8df7-61c246e528b8"
      },
      "execution_count": 10,
      "outputs": [
        {
          "output_type": "stream",
          "name": "stdout",
          "text": [
            "['Saad', 'Akhund ', 'Saif']\n"
          ]
        }
      ]
    },
    {
      "cell_type": "code",
      "source": [
        "cast_names = [\"Saad\", \"Osama\", \"Aamir\", \"Jawad\", \"Aashir\"]\n",
        "cast_heights = [72, 68, 72, 66, 76]\n",
        "\n",
        "cast = dict(zip(cast_names, cast_heights))\n",
        "\n",
        "print(cast)\n"
      ],
      "metadata": {
        "colab": {
          "base_uri": "https://localhost:8080/"
        },
        "id": "ffVUudbHY-RP",
        "outputId": "14b1f085-6b46-40c0-cb3b-d7c21d58191e"
      },
      "execution_count": 11,
      "outputs": [
        {
          "output_type": "stream",
          "name": "stdout",
          "text": [
            "{'Saad': 72, 'Osama': 68, 'Aamir': 72, 'Jawad': 66, 'Aashir': 76}\n"
          ]
        }
      ]
    },
    {
      "cell_type": "code",
      "source": [
        "cast = [\"Saad\", \"Osama\", \"Mustafa\", \"Ahmed\", \" Mushtaque\"]\n",
        "heights = [72, 68, 72, 66, 76]\n",
        "\n",
        "\n",
        "for i, name in enumerate(cast):\n",
        "    cast[i] = name + str(heights[i])\n",
        "\n",
        "print(cast)\n"
      ],
      "metadata": {
        "colab": {
          "base_uri": "https://localhost:8080/"
        },
        "id": "PmkDeqCqZCEs",
        "outputId": "6bf723c7-8d4b-4d98-e714-9d17439527bd"
      },
      "execution_count": 12,
      "outputs": [
        {
          "output_type": "stream",
          "name": "stdout",
          "text": [
            "['Saad72', 'Osama68', 'Mustafa72', 'Ahmed66', ' Mushtaque76']\n"
          ]
        }
      ]
    },
    {
      "cell_type": "code",
      "source": [],
      "metadata": {
        "id": "AQsgoUwaZG4e"
      },
      "execution_count": null,
      "outputs": []
    }
  ]
}
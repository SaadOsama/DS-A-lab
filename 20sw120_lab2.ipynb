{
  "nbformat": 4,
  "nbformat_minor": 0,
  "metadata": {
    "colab": {
      "provenance": [],
      "authorship_tag": "ABX9TyN3aNQFIMiXU+15VvnTSlVH",
      "include_colab_link": true
    },
    "kernelspec": {
      "name": "python3",
      "display_name": "Python 3"
    },
    "language_info": {
      "name": "python"
    }
  },
  "cells": [
    {
      "cell_type": "markdown",
      "metadata": {
        "id": "view-in-github",
        "colab_type": "text"
      },
      "source": [
        "<a href=\"https://colab.research.google.com/github/SaadOsama/DS-A-lab/blob/main/20sw120_lab2.ipynb\" target=\"_parent\"><img src=\"https://colab.research.google.com/assets/colab-badge.svg\" alt=\"Open In Colab\"/></a>"
      ]
    },
    {
      "cell_type": "markdown",
      "source": [
        "# **task 1**"
      ],
      "metadata": {
        "id": "bix92aWzNmM_"
      }
    },
    {
      "cell_type": "code",
      "source": [
        "variable1 = 42\n",
        "variable2 = \"Hello, World!\"\n",
        "print(\"The value of variable1 is {} and the value of variable2 is '{}'.\".format(variable1, variable2))"
      ],
      "metadata": {
        "colab": {
          "base_uri": "https://localhost:8080/"
        },
        "id": "NzWA8ewlNxQn",
        "outputId": "570ba7f7-1a93-44f5-f7da-ed67b73c71e4"
      },
      "execution_count": 1,
      "outputs": [
        {
          "output_type": "stream",
          "name": "stdout",
          "text": [
            "The value of variable1 is 42 and the value of variable2 is 'Hello, World!'.\n"
          ]
        }
      ]
    },
    {
      "cell_type": "code",
      "source": [],
      "metadata": {
        "id": "UTMXoUKAN7b0"
      },
      "execution_count": null,
      "outputs": []
    },
    {
      "cell_type": "code",
      "source": [
        "text = \"hello, world!\"\n",
        "print(text.capitalize())\n",
        "\n",
        "text = \"hello, world!\"\n",
        "print(text.upper())\n",
        "\n",
        "text = \"Hello, World!\"\n",
        "print(text.lower())\n",
        "\n",
        "text = \"   hello, world!   \"\n",
        "print(text.strip())\n",
        "\n",
        "text = \"Hello, World!\"\n",
        "print(text.replace(\"Hello\", \"Hi\"))\n",
        "\n",
        "text = \"Hello, World!\"\n",
        "print(text.split())\n",
        "\n",
        "text = \"Hello, World!\"\n",
        "print(text.startswith(\"Hello\"))\n",
        "\n",
        "text = \"Hello, World!\"\n",
        "print(text.endswith(\"World!\"))\n"
      ],
      "metadata": {
        "colab": {
          "base_uri": "https://localhost:8080/"
        },
        "id": "RYS5PhmrORaC",
        "outputId": "8f0e8f12-394a-4188-dc2a-6f465de2f0d0"
      },
      "execution_count": 2,
      "outputs": [
        {
          "output_type": "stream",
          "name": "stdout",
          "text": [
            "Hello, world!\n",
            "HELLO, WORLD!\n",
            "hello, world!\n",
            "hello, world!\n",
            "Hi, World!\n",
            "['Hello,', 'World!']\n",
            "True\n",
            "True\n"
          ]
        }
      ]
    },
    {
      "cell_type": "code",
      "source": [],
      "metadata": {
        "id": "KBqsK_I5PWXi"
      },
      "execution_count": null,
      "outputs": []
    },
    {
      "cell_type": "code",
      "source": [
        "month = 8\n",
        "days_in_month = [31, 28, 31, 30, 31, 30, 31, 31, 30, 31, 30, 31]\n",
        "num_days = days_in_month[month - 1]\n",
        "print(num_days)"
      ],
      "metadata": {
        "colab": {
          "base_uri": "https://localhost:8080/"
        },
        "id": "VRjr9Lk6PZdE",
        "outputId": "bd521fe5-22f6-4300-d090-55500ca7f7c2"
      },
      "execution_count": 4,
      "outputs": [
        {
          "output_type": "stream",
          "name": "stdout",
          "text": [
            "31\n"
          ]
        }
      ]
    },
    {
      "cell_type": "code",
      "source": [],
      "metadata": {
        "id": "SUfKnknqP6Y_"
      },
      "execution_count": null,
      "outputs": []
    },
    {
      "cell_type": "code",
      "source": [
        "eclipse_dates = ['June 21, 2001', 'December 4, 2002', 'November 23, 2003', 'March 29, 2006', 'August 1, 2008', 'July 22, 2009', 'July 11, 2010', 'November 13, 2012', 'March 20, 2015', 'March 9, 2016']\n",
        "\n",
        "\n",
        "recent_dates = eclipse_dates[-3:]\n",
        "\n",
        "print(recent_dates)\n"
      ],
      "metadata": {
        "colab": {
          "base_uri": "https://localhost:8080/"
        },
        "id": "cy9USPzFP_LS",
        "outputId": "1f8199b6-c29f-4ac3-f785-f76a0f10e727"
      },
      "execution_count": 5,
      "outputs": [
        {
          "output_type": "stream",
          "name": "stdout",
          "text": [
            "['November 13, 2012', 'March 20, 2015', 'March 9, 2016']\n"
          ]
        }
      ]
    },
    {
      "cell_type": "code",
      "source": [
        "\n",
        "students_data = {\n",
        "    \"student1\": {\n",
        "        \"name\": \"saad\",\n",
        "        \"age\": 22,\n",
        "        \"grade\": \"A+\",\n",
        "        \"address\": \"etc street hyd\",\n",
        "        \"phone\": \"1234\"\n",
        "    },\n",
        "    \"student2\": {\n",
        "        \"name\": \"osama\",\n",
        "        \"age\": 22,\n",
        "        \"grade\": \"A+\",\n",
        "        \"address\": \"abc street hyd\",\n",
        "        \"phone\": \"5678\"\n",
        "    },\n",
        "    \"student3\": {\n",
        "        \"name\": \"Akhuund\",\n",
        "        \"age\": 22,\n",
        "        \"grade\": \"A+\",\n",
        "        \"address\": \"def street hyd\",\n",
        "        \"phone\": \"9876\"\n",
        "    }\n",
        "}\n",
        "\n",
        "\n",
        "print(\"Student 1:\")\n",
        "print(\"Name:\", students_data[\"student1\"][\"name\"])\n",
        "print(\"Age:\", students_data[\"student1\"][\"age\"])\n",
        "print(\"Grade:\", students_data[\"student1\"][\"grade\"])\n",
        "print(\"Address:\", students_data[\"student1\"][\"address\"])\n",
        "print(\"Phone:\", students_data[\"student1\"][\"phone\"])\n",
        "\n",
        "print(\"\\nStudent 2:\")\n",
        "print(\"Name:\", students_data[\"student2\"][\"name\"])\n",
        "print(\"Age:\", students_data[\"student2\"][\"age\"])\n",
        "print(\"Grade:\", students_data[\"student2\"][\"grade\"])\n",
        "print(\"Address:\", students_data[\"student2\"][\"address\"])\n",
        "print(\"Phone:\", students_data[\"student2\"][\"phone\"])\n",
        "\n",
        "print(\"\\nStudent 3:\")\n",
        "print(\"Name:\", students_data[\"student3\"][\"name\"])\n",
        "print(\"Age:\", students_data[\"student3\"][\"age\"])\n",
        "print(\"Grade:\", students_data[\"student3\"][\"grade\"])\n",
        "print(\"Address:\", students_data[\"student3\"][\"address\"])\n",
        "print(\"Phone:\", students_data[\"student3\"][\"phone\"])\n"
      ],
      "metadata": {
        "colab": {
          "base_uri": "https://localhost:8080/"
        },
        "id": "evGpWPEiQUmB",
        "outputId": "a32dc5e6-4589-48d9-ccf7-0b18683760f8"
      },
      "execution_count": 6,
      "outputs": [
        {
          "output_type": "stream",
          "name": "stdout",
          "text": [
            "Student 1:\n",
            "Name: saad\n",
            "Age: 22\n",
            "Grade: A+\n",
            "Address: etc street hyd\n",
            "Phone: 1234\n",
            "\n",
            "Student 2:\n",
            "Name: osama\n",
            "Age: 22\n",
            "Grade: A+\n",
            "Address: abc street hyd\n",
            "Phone: 5678\n",
            "\n",
            "Student 3:\n",
            "Name: Akhuund\n",
            "Age: 22\n",
            "Grade: A+\n",
            "Address: def street hyd\n",
            "Phone: 9876\n"
          ]
        }
      ]
    },
    {
      "cell_type": "code",
      "source": [],
      "metadata": {
        "id": "Zuq2SBxPREBP"
      },
      "execution_count": null,
      "outputs": []
    }
  ]
}